{
 "cells": [
  {
   "cell_type": "markdown",
<<<<<<< Updated upstream
   "id": "3e2e6672",
   "metadata": {},
   "source": [
    "# Miniproyecto 2\n",
    "\n",
    "### Juan Lorthiois\n",
    "\n",
    "### Elder Guzman"
=======
   "id": "34ae140c",
   "metadata": {},
   "source": [
    "# Miniproyecto 2\n",
    "Elder Guzman 19628\n",
    "\n",
    "Juan Lorthiois 18771"
>>>>>>> Stashed changes
   ]
  },
  {
   "cell_type": "code",
<<<<<<< Updated upstream
   "execution_count": 1,
=======
   "execution_count": 219,
>>>>>>> Stashed changes
   "id": "543535da",
   "metadata": {},
   "outputs": [],
   "source": [
    "import numpy as np\n",
    "import matplotlib.pyplot as plt\n",
    "from math import log\n",
    "import random\n",
    "import math"
   ]
  },
  {
   "cell_type": "markdown",
   "id": "6591b416",
   "metadata": {},
   "source": [
    "## Ejercicio 1"
   ]
  },
  {
   "cell_type": "code",
   "execution_count": null,
   "id": "4a87c5fd",
   "metadata": {},
   "outputs": [],
   "source": [
    "def f1(punto): return (punto[0]/2,punto[1]/2)"
   ]
  },
  {
   "cell_type": "code",
   "execution_count": null,
   "id": "6536904b",
   "metadata": {},
   "outputs": [],
   "source": [
    "def f2(punto): return (punto[0]/2+0.5,punto[1]/2)"
   ]
  },
  {
   "cell_type": "code",
   "execution_count": null,
   "id": "56e42d21",
   "metadata": {},
   "outputs": [],
   "source": [
    "def f3(punto): return (punto[0]/2+0.25,punto[1]/2+0.5)"
   ]
  },
  {
   "cell_type": "code",
   "execution_count": null,
   "id": "45145de7",
   "metadata": {},
   "outputs": [],
   "source": [
    "num_puntos = 100000\n",
    "pesos = [np.random.randint(100),np.random.randint(100),np.random.randint(100)]\n",
    "puntos = [(0,0)]\n",
    "func = random.choices([0,1,2], weights=pesos, k=num_puntos)\n",
    "for i in range(num_puntos):\n",
    "    p = puntos[i]\n",
    "    f = func[i]\n",
    "    if f == 0:\n",
    "        puntos.append(f1(p))\n",
    "    elif f == 1:\n",
    "        puntos.append(f2(p))\n",
    "    elif f == 2:\n",
    "        puntos.append(f3(p))\n",
    "\n",
    "\n",
    "plt.scatter(*zip(*puntos),s=0.001)\n",
    "plt.gcf().set_size_inches((7.5,7.5))\n",
    "plt.show()"
   ]
  },
  {
   "cell_type": "markdown",
   "id": "e6e77388",
   "metadata": {},
   "source": [
    "## Ejercicio 2"
   ]
  },
  {
   "cell_type": "code",
   "execution_count": null,
   "id": "bcf9be16",
   "metadata": {},
   "outputs": [],
   "source": [
    "def F1(x, y): return x*0.85 + y*0.04 + 0.0, x*-0.04 + y*0.85 + 1.6\n",
    "def F2(x, y): return -0.15*x + 0.28*y + 0.0, x*0.26 + y*0.24 + 0.44\n",
    "def F3(x, y): return x*0.2 + y*-0.26 + 0.0, x*0.23 + y*0.22 + 1.6\n",
    "def F4(x, y): return x*0.0 + y*0.0, x*0.0 + y*0.16"
   ]
  },
  {
   "cell_type": "code",
   "execution_count": null,
   "id": "4bb934d7",
   "metadata": {},
   "outputs": [],
   "source": [
    "def Framework4(P,n):\n",
    "    num_puntos = n\n",
    "    pesos = P\n",
    "    puntos = [(0,0)]\n",
    "    func = random.choices([0,1,2,3], weights=pesos, k=num_puntos)\n",
    "    for i in range(num_puntos):\n",
    "        p = puntos[i]\n",
    "        f = func[i]\n",
    "        if f == 0:\n",
    "            puntos.append(F1(p[0],p[1]))\n",
    "        elif f == 1:\n",
    "            puntos.append(F2(p[0],p[1]))\n",
    "        elif f == 2:\n",
    "            puntos.append(F3(p[0],p[1]))\n",
    "        elif f == 3:\n",
    "            puntos.append(F4(p[0],p[1]))\n",
    "\n",
    "\n",
    "    plt.scatter(*zip(*puntos),s=0.001)\n",
    "    plt.gcf().set_size_inches((7.5,7.5))\n",
    "    plt.show()"
   ]
  },
  {
   "cell_type": "code",
   "execution_count": null,
   "id": "fa83b1c6",
   "metadata": {},
   "outputs": [],
   "source": [
    "Framework4([0.85, 0.07, 0.07, 0.01],100000)"
   ]
  },
  {
   "cell_type": "markdown",
   "id": "62f48992",
   "metadata": {},
   "source": [
    "# Ejercicio 3"
   ]
  },
  {
   "cell_type": "code",
   "execution_count": 5,
   "id": "e9b13eaf",
   "metadata": {},
   "outputs": [],
<<<<<<< Updated upstream
   "source": []
  },
  {
   "cell_type": "markdown",
   "id": "c6ec0c2b",
   "metadata": {},
   "source": [
    "### Codigo - Ejercicio 4"
   ]
  },
  {
   "cell_type": "code",
   "execution_count": 5,
   "id": "e8976a14",
   "metadata": {},
   "outputs": [],
   "source": [
    "#definimos la funcion correspondiente a la que se debe integrar en el intervao [0,1]\n",
    "\n",
    "def func_4(y):\n",
    "    \n",
    "    a = np.exp(-np.tan(np.pi*(y-(1/2)))**2)*(1/(np.cos(np.pi*(y-(1/2)))))**2*np.pi\n",
    "    return a"
   ]
  },
  {
   "cell_type": "code",
   "execution_count": 6,
   "id": "64dec4b2",
   "metadata": {},
   "outputs": [],
   "source": [
    "def Montecarlo_func4(k):\n",
    "    \n",
    "    #generamos la lista de valores aleatorios\n",
    "    U_1 = [random.random() for i in range(0, k)]\n",
    "    \n",
    "    F_eval = []\n",
    "    \n",
    "    #evaluamos la funcion en cada una de los valores aleaotorios del intervalo 0,1\n",
    "    for i in range(0,k):\n",
    "        F_eval.append(func_4(U_1[i]))\n",
    "    \n",
    "    \n",
    "    return np.sum(F_eval)/k"
   ]
  },
  {
   "cell_type": "code",
   "execution_count": 7,
   "id": "4dd7ecfe",
   "metadata": {},
   "outputs": [
    {
     "data": {
      "text/plain": [
       "1.8978488958604651"
      ]
     },
     "execution_count": 7,
     "metadata": {},
     "output_type": "execute_result"
    }
   ],
   "source": [
    "Montecarlo_func4(100)  # 100 iteraciones"
=======
   "source": [
    "class Ejer3:\n",
    "    \n",
    "    def __init__(self,seed=None):\n",
    "        if seed:\n",
    "            self.xn1 = seed\n",
    "            self.xn2 = seed\n",
    "        else:\n",
    "            import datetime\n",
    "            system_time = datetime.datetime.now()\n",
    "            self.xn1 = system_time.hour*system_time.minute**system_time.second*system_time.year*system_time.day*system_time.month\n",
    "            self.xn2 = self.xn1\n",
    "\n",
    "    \n",
    "    def gen1(self):\n",
    "        x = 5**5 * self.xn1\n",
    "        mod = 2**35 - 1\n",
    "        self.xn1 = x%mod\n",
    "        x = self.xn1/mod\n",
    "        return x\n",
    "    \n",
    "    def gen2(self):\n",
    "        x = 7**5 * self.xn2\n",
    "        mod = 2**31 - 1\n",
    "        self.xn2 = x%mod\n",
    "        x = self.xn2/mod\n",
    "        return x\n",
    "        "
>>>>>>> Stashed changes
   ]
  },
  {
   "cell_type": "code",
<<<<<<< Updated upstream
   "execution_count": 8,
   "id": "9c3b92cb",
   "metadata": {},
   "outputs": [
    {
     "data": {
      "text/plain": [
       "1.7677053218817416"
      ]
     },
     "execution_count": 8,
     "metadata": {},
     "output_type": "execute_result"
    }
   ],
   "source": [
    "Montecarlo_func4(10000)  # 10,000 iteraciones"
=======
   "execution_count": 271,
   "id": "4321325a",
   "metadata": {},
   "outputs": [],
   "source": [
    "generator = Ejer3()"
>>>>>>> Stashed changes
   ]
  },
  {
   "cell_type": "code",
<<<<<<< Updated upstream
   "execution_count": 9,
   "id": "2a653acb",
   "metadata": {},
   "outputs": [
    {
     "data": {
      "text/plain": [
       "1.7718690810779631"
      ]
     },
     "execution_count": 9,
     "metadata": {},
     "output_type": "execute_result"
    }
   ],
   "source": [
    "Montecarlo_func4(100000)  # 100,000 iteraciones"
   ]
  },
  {
   "cell_type": "markdown",
   "id": "a1987565",
   "metadata": {},
   "source": [
    "### Codigo - Ejercicio 5"
   ]
  },
  {
   "cell_type": "code",
   "execution_count": 10,
   "id": "788c1974",
   "metadata": {},
   "outputs": [],
   "source": [
    "#Definimos la funcion a integrar con los limites de integracion y las sutituciones apropiadas\n",
    "\n",
    "\n",
    "def func_5(h,p):\n",
    "    \n",
    "    if h < p:\n",
    "        a = np.exp(-(np.tan(np.pi/2 * p) + np.tan(np.pi/2 * h) ))*(np.pi**2/4)*(1/np.cos(np.pi/2 * h))**2 * (1/np.cos(np.pi/2 * p))**2\n",
    "        return a\n",
    "    else:\n",
    "        return 0\n",
    "    "
=======
   "execution_count": 388,
   "id": "d833da4e",
   "metadata": {},
   "outputs": [
    {
     "name": "stdout",
     "output_type": "stream",
     "text": [
      "                                        Generador 1 - 100000                                        \n",
      "De 0.0 a 0.1: ****************************************                                              (9958,9.96% )\n",
      "De 0.1 a 0.2: *****************************************                                             (10118,10.12% )\n",
      "De 0.2 a 0.3: ***************************************                                               (9669,9.67% )\n",
      "De 0.3 a 0.4: *****************************************                                             (10087,10.09% )\n",
      "De 0.4 a 0.5: ****************************************                                              (9757,9.76% )\n",
      "De 0.5 a 0.6: *****************************************                                             (10073,10.07% )\n",
      "De 0.6 a 0.7: ****************************************                                              (9943,9.94% )\n",
      "De 0.7 a 0.8: ****************************************                                              (9839,9.84% )\n",
      "De 0.8 a 0.9: ******************************************                                            (10279,10.28% )\n",
      "De 0.9 a 1.0: ******************************************                                            (10277,10.28% )\n",
      "                                        Generador 2 - 100000                                        \n",
      "De 0.0 a 0.1: *****************************************                                             (10074,10.07% )\n",
      "De 0.1 a 0.2: ****************************************                                              (9985,9.98% )\n",
      "De 0.2 a 0.3: ****************************************                                              (9893,9.89% )\n",
      "De 0.3 a 0.4: ****************************************                                              (9994,9.99% )\n",
      "De 0.4 a 0.5: *****************************************                                             (10098,10.1% )\n",
      "De 0.5 a 0.6: ****************************************                                              (9958,9.96% )\n",
      "De 0.6 a 0.7: *****************************************                                             (10025,10.02% )\n",
      "De 0.7 a 0.8: ****************************************                                              (9999,10.0% )\n",
      "De 0.8 a 0.9: ****************************************                                              (9914,9.91% )\n",
      "De 0.9 a 1.0: *****************************************                                             (10060,10.06% )\n",
      "                                     Generador default - 100000                                     \n",
      "De 0.0 a 0.1: *****************************************                                             (10051,10.05% )\n",
      "De 0.1 a 0.2: ****************************************                                              (9852,9.85% )\n",
      "De 0.2 a 0.3: ****************************************                                              (9994,9.99% )\n",
      "De 0.3 a 0.4: *****************************************                                             (10048,10.05% )\n",
      "De 0.4 a 0.5: ****************************************                                              (9906,9.91% )\n",
      "De 0.5 a 0.6: *****************************************                                             (10137,10.14% )\n",
      "De 0.6 a 0.7: ****************************************                                              (9927,9.93% )\n",
      "De 0.7 a 0.8: *****************************************                                             (10172,10.17% )\n",
      "De 0.8 a 0.9: ****************************************                                              (9944,9.94% )\n",
      "De 0.9 a 1.0: ****************************************                                              (9969,9.97% )\n"
     ]
    }
   ],
   "source": [
    "generado1 = []\n",
    "generado2 = []\n",
    "generado3 = []\n",
    "for i in range(100000):\n",
    "    generado1.append( generator.gen1() )\n",
    "    generado2.append( generator.gen2() )\n",
    "    generado3.append( np.random.rand() )\n",
    "\n",
    "\n",
    "print(\"Generador 1 - 100000\".center(100))\n",
    "astericHistogram(generado1)\n",
    "print(\"Generador 2 - 100000\".center(100))\n",
    "astericHistogram(generado2)\n",
    "print(\"Generador default - 100000\".center(100))\n",
    "astericHistogram(generado3) "
>>>>>>> Stashed changes
   ]
  },
  {
   "cell_type": "code",
<<<<<<< Updated upstream
   "execution_count": 11,
   "id": "f717e476",
   "metadata": {},
   "outputs": [],
   "source": [
    "#Definimos el proceso de Montecarlo que se aplicara a la funcion de 2 variables\n",
    "\n",
    "\n",
    "def Montecarlo_2Vars_func5(k):\n",
    "    \n",
    "    #generamos las listas de valores aleatorios distribuciones uniformes\n",
    "    U_1 = [random.random() for i in range(0, k)]\n",
    "    U_2 = [random.random() for i in range(0, k)]\n",
    "    \n",
    "    F_eval = []  \n",
    "    \n",
    "    #evaluamos la funcion en cada una de los valores aleaotorios del intervalo 0,1\n",
    "    for i in range(0,k):\n",
    "        F_eval.append(func_5(U_1[i], U_2[i]))\n",
    "    \n",
    "    \n",
    "    return np.sum(F_eval)/k"
   ]
  },
  {
   "cell_type": "code",
   "execution_count": 12,
   "id": "ec3edb9f",
   "metadata": {},
   "outputs": [
    {
     "data": {
      "text/plain": [
       "0.5262902644654889"
      ]
     },
     "execution_count": 12,
     "metadata": {},
     "output_type": "execute_result"
    }
   ],
   "source": [
    "Montecarlo_2Vars_func5(100)  #100 iteraciones"
=======
   "execution_count": 324,
   "id": "b6e46151",
   "metadata": {},
   "outputs": [],
   "source": [
    "def astericHistogram(data):\n",
    "    cou = [0]*10\n",
    "    \n",
    "    for i in range( len(data) ):\n",
    "        for j in range(1,11):\n",
    "            if (j-1)/10 <= data[i] and data[i] < j/10:\n",
    "                cou[j-1] += 1\n",
    "\n",
    "    for i in range( 10 ):\n",
    "        rango = \"De \" + str(i/10) + \" a \" + str( (i+1)/10 ) + \": \"\n",
    "        \n",
    "        porcentaje = np.round(cou[i]/len(data) * 100,2)\n",
    "        num_ateriscos = math.ceil(porcentaje*4)\n",
    "        \n",
    "        rango += '*'*(num_ateriscos)\n",
    "        rango = rango.ljust(100)\n",
    "        rango +=  \"(\" + str(cou[i])+\",\" + str( porcentaje ) +\"% )\"\n",
    "        print(rango)\n",
    "    return"
>>>>>>> Stashed changes
   ]
  },
  {
   "cell_type": "code",
<<<<<<< Updated upstream
   "execution_count": 13,
   "id": "d390bfe3",
=======
   "execution_count": 173,
   "id": "dbe21b65",
>>>>>>> Stashed changes
   "metadata": {},
   "outputs": [
    {
     "data": {
      "text/plain": [
<<<<<<< Updated upstream
       "0.484928897898684"
      ]
     },
     "execution_count": 13,
=======
       "[1, 1, 0, 2, 1, 1, 1, 0, 1, 2]"
      ]
     },
     "execution_count": 173,
>>>>>>> Stashed changes
     "metadata": {},
     "output_type": "execute_result"
    }
   ],
   "source": [
<<<<<<< Updated upstream
    "Montecarlo_2Vars_func5(1000)  #10,000 iteraciones"
=======
    "cou"
>>>>>>> Stashed changes
   ]
  },
  {
   "cell_type": "code",
<<<<<<< Updated upstream
   "execution_count": 14,
   "id": "87c77c2b",
=======
   "execution_count": 174,
   "id": "3c2081af",
>>>>>>> Stashed changes
   "metadata": {},
   "outputs": [
    {
     "data": {
      "text/plain": [
<<<<<<< Updated upstream
       "0.4996748902761426"
      ]
     },
     "execution_count": 14,
=======
       "[0.022260017344444643,\n",
       " 0.5625542013895044,\n",
       " 0.981879342201337,\n",
       " 0.3729443791780197,\n",
       " 0.45118493131161624,\n",
       " 0.952910348800736,\n",
       " 0.844840002299893,\n",
       " 0.12500718716546566,\n",
       " 0.6474598920801498,\n",
       " 0.3121627504678956]"
      ]
     },
     "execution_count": 174,
>>>>>>> Stashed changes
     "metadata": {},
     "output_type": "execute_result"
    }
   ],
   "source": [
<<<<<<< Updated upstream
    "Montecarlo_2Vars_func5(100000)  #100,000 iteraciones"
   ]
  },
  {
   "cell_type": "code",
   "execution_count": null,
   "id": "5de0c088",
   "metadata": {},
   "outputs": [],
   "source": []
=======
    "p"
   ]
>>>>>>> Stashed changes
  }
 ],
 "metadata": {
  "kernelspec": {
   "display_name": "Python 3 (ipykernel)",
   "language": "python",
   "name": "python3"
  },
  "language_info": {
   "codemirror_mode": {
    "name": "ipython",
    "version": 3
   },
   "file_extension": ".py",
   "mimetype": "text/x-python",
   "name": "python",
   "nbconvert_exporter": "python",
   "pygments_lexer": "ipython3",
   "version": "3.9.12"
  }
 },
 "nbformat": 4,
 "nbformat_minor": 5
}
